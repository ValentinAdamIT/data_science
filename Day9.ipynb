{
  "nbformat": 4,
  "nbformat_minor": 0,
  "metadata": {
    "colab": {
      "provenance": [],
      "authorship_tag": "ABX9TyOz0/k9JXCUzKgSIzAUPwEB",
      "include_colab_link": true
    },
    "kernelspec": {
      "name": "python3",
      "display_name": "Python 3"
    },
    "language_info": {
      "name": "python"
    }
  },
  "cells": [
    {
      "cell_type": "markdown",
      "metadata": {
        "id": "view-in-github",
        "colab_type": "text"
      },
      "source": [
        "<a href=\"https://colab.research.google.com/github/ValentinAdamIT/data_science/blob/main/Day9.ipynb\" target=\"_parent\"><img src=\"https://colab.research.google.com/assets/colab-badge.svg\" alt=\"Open In Colab\"/></a>"
      ]
    },
    {
      "cell_type": "markdown",
      "source": [
        "###Exercise 1\n",
        "The following array:  \n",
        "array  \n",
        "([[0, 0, 0, 0, 0, 0],  \n",
        "       [0, 0, 0, 0, 0, 0],  \n",
        "       [0, 0, 0, 0, 0, 0],  \n",
        "       [0, 0, 0, 0, 0, 0],  \n",
        "       [0, 0, 0, 0, 0, 0],  \n",
        "       [0, 0, 0, 0, 0, 0]])  \n",
        "\n",
        "\n",
        "transform to the following:  \n",
        "\n",
        "\n",
        "\n",
        "array  \n",
        "([[10,  0, 10,  0, 10,  0],  \n",
        "       [ 5,  0,  5,  0,  5,  0],  \n",
        "       [10,  0, 10,  0, 10,  0],  \n",
        "       [ 5,  0,  5,  0,  5,  0],  \n",
        "       [10,  0, 10,  0, 10,  0],  \n",
        "       [ 5,  0,  5,  0,  5,  0]])  \n",
        "\n",
        "\n",
        "In response, print transformed array to the console.\n",
        "\n",
        "\n",
        "\n",
        "Tip: Use the slice operator and assign the appropriate values.\n",
        "\n",
        "\n",
        "\n",
        "Expected output:\n",
        "\n",
        "\n",
        "\n",
        "[[10  0 10  0 10  0]  \n",
        " [ 5  0  5  0  5  0]  \n",
        " [10  0 10  0 10  0]  \n",
        " [ 5  0  5  0  5  0]  \n",
        " [10  0 10  0 10  0]  \n",
        " [ 5  0  5  0  5  0]]  \n"
      ],
      "metadata": {
        "id": "863jA_rACJEk"
      }
    },
    {
      "cell_type": "code",
      "execution_count": 11,
      "metadata": {
        "colab": {
          "base_uri": "https://localhost:8080/"
        },
        "id": "Y__-qAV4CHBs",
        "outputId": "aa5f2f82-2e16-465e-c4d0-dc1e6d850270"
      },
      "outputs": [
        {
          "output_type": "stream",
          "name": "stdout",
          "text": [
            "[[10  0 10  0 10  0]\n",
            " [ 5  0  5  0  5  0]\n",
            " [10  0 10  0 10  0]\n",
            " [ 5  0  5  0  5  0]\n",
            " [10  0 10  0 10  0]\n",
            " [ 5  0  5  0  5  0]]\n"
          ]
        }
      ],
      "source": [
        "import numpy as np\n",
        "x=np.zeros(36, dtype=int).reshape(6,6)\n",
        "# x[::2, ::2] = 10: Assigns the value 10 to every element in even rows and even columns.\n",
        "x[::2, ::2] = 10\n",
        "# x[1::2, ::2] = 5: Assigns the value 5 to every element in odd rows and even columns.\n",
        "x[1::2, ::2] = 5\n",
        "print(x)"
      ]
    },
    {
      "cell_type": "markdown",
      "source": [
        "###Exercise 2\n",
        "Combine the following arrays into one as shown below and print it to the console.\n",
        "\n",
        "\n",
        "\n",
        "A = np.arange(12).reshape(-1, 4)  \n",
        "B = np.array([[4, 3, 7, 2],  \n",
        "              [0, 5, 2, 6]])  \n",
        "\n",
        "\n",
        "Tip: Use the np.append() function.  \n",
        "\n",
        "\n",
        "\n",
        "Expected result:  \n",
        "\n",
        "\n",
        "\n",
        "[[ 0  1  2  3]  \n",
        " [ 4  5  6  7]  \n",
        " [ 8  9 10 11]  \n",
        " [ 4  3  7  2]  \n",
        " [ 0  5  2  6]]  \n"
      ],
      "metadata": {
        "id": "jIE1LLfiEp2U"
      }
    },
    {
      "cell_type": "code",
      "source": [
        "import numpy as np\n",
        "A = np.arange(12).reshape(-1, 4)\n",
        "B = np.array([[4, 3, 7, 2], [0, 5, 2, 6]])\n",
        "print(np.append(A,B,axis=0))"
      ],
      "metadata": {
        "colab": {
          "base_uri": "https://localhost:8080/"
        },
        "id": "0-7tB0teE2Bz",
        "outputId": "fd4addc2-e6e2-407f-9123-f0e98542be1b"
      },
      "execution_count": 22,
      "outputs": [
        {
          "output_type": "stream",
          "name": "stdout",
          "text": [
            "[[ 0  1  2  3]\n",
            " [ 4  5  6  7]\n",
            " [ 8  9 10 11]\n",
            " [ 4  3  7  2]\n",
            " [ 0  5  2  6]]\n"
          ]
        }
      ]
    },
    {
      "cell_type": "markdown",
      "source": [
        "### Exercise 3\n",
        "The following arrays are given:  \n",
        "\n",
        "\n",
        "\n",
        "A = np.arange(8).reshape(-1, 4)  \n",
        "B = np.array([[9, 10, 11, 3],  \n",
        "              [2, 8, 0, 9]])        \n",
        "\n",
        "\n",
        "Extract the same elements (intersection) of the arrays as a list and print result to the console.  \n",
        "\n",
        "\n",
        "\n",
        "Tip: Use the np.intersect1d() function.  \n",
        "\n",
        "\n",
        "\n",
        "Expected result:  \n",
        "\n",
        "\n",
        "\n",
        "[0 2 3]  \n"
      ],
      "metadata": {
        "id": "oxGcbzTlGxCL"
      }
    },
    {
      "cell_type": "code",
      "source": [
        "import numpy as np\n",
        "A = np.arange(8).reshape(-1, 4)\n",
        "B = np.array([[9, 10, 11, 3],\n",
        "[2, 8, 0, 9]])\n",
        "print(np.intersect1d(A,B))"
      ],
      "metadata": {
        "colab": {
          "base_uri": "https://localhost:8080/"
        },
        "id": "70TIXisxG3FW",
        "outputId": "d0afc9e2-dcf9-4f49-96fe-8ce5bfdf130c"
      },
      "execution_count": 25,
      "outputs": [
        {
          "output_type": "stream",
          "name": "stdout",
          "text": [
            "[0 2 3]\n"
          ]
        }
      ]
    },
    {
      "cell_type": "code",
      "source": [
        "import numpy as np\n",
        "A=np.arange(15).reshape(-1,5)\n",
        "B=np.arange(20).reshape(-1,5)\n",
        "print(np.intersect1d(A,B))"
      ],
      "metadata": {
        "colab": {
          "base_uri": "https://localhost:8080/"
        },
        "id": "AWlOIxhAIl_y",
        "outputId": "9edaa889-c27e-42ff-e086-11c3b9977926"
      },
      "execution_count": 31,
      "outputs": [
        {
          "output_type": "stream",
          "name": "stdout",
          "text": [
            "[ 0  1  2  3  4  5  6  7  8  9 10 11 12 13 14]\n"
          ]
        }
      ]
    }
  ]
}