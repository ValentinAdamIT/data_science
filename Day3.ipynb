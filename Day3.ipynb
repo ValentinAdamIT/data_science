{
  "nbformat": 4,
  "nbformat_minor": 0,
  "metadata": {
    "colab": {
      "provenance": [],
      "authorship_tag": "ABX9TyMh9XDESOdo00u4ipr5M5bE",
      "include_colab_link": true
    },
    "kernelspec": {
      "name": "python3",
      "display_name": "Python 3"
    },
    "language_info": {
      "name": "python"
    }
  },
  "cells": [
    {
      "cell_type": "markdown",
      "metadata": {
        "id": "view-in-github",
        "colab_type": "text"
      },
      "source": [
        "<a href=\"https://colab.research.google.com/github/ValentinAdamIT/data_science/blob/main/Day3.ipynb\" target=\"_parent\"><img src=\"https://colab.research.google.com/assets/colab-badge.svg\" alt=\"Open In Colab\"/></a>"
      ]
    },
    {
      "cell_type": "markdown",
      "source": [
        "### Exercie 1\n",
        "Expected result:  \n",
        "[ True False False False]"
      ],
      "metadata": {
        "id": "BPRcouoVD7oA"
      }
    },
    {
      "cell_type": "code",
      "source": [
        "import numpy as np\n",
        "\n",
        "\n",
        "A = np.array([0.4, 0.5, 0.3, 0.9])\n",
        "B = np.array([0.38, 0.51, 0.3, 0.91])\n",
        "\n",
        "print(np.greater(A,B))\n",
        "#or\n",
        "#print(A>B)\n"
      ],
      "metadata": {
        "colab": {
          "base_uri": "https://localhost:8080/"
        },
        "id": "VSJs4d9DF6UQ",
        "outputId": "d06ca0a9-4e25-4b48-8bff-35d2bd2ab8db"
      },
      "execution_count": 4,
      "outputs": [
        {
          "output_type": "stream",
          "name": "stdout",
          "text": [
            "[ True False False False]\n"
          ]
        }
      ]
    },
    {
      "cell_type": "markdown",
      "source": [
        "### Exercice 2\n",
        "Expected result:  \n",
        "[[0 0 0 0]  \n",
        " [0 0 0 0]  \n",
        " [0 0 0 0]  \n",
        " [0 0 0 0]]"
      ],
      "metadata": {
        "id": "cVzNl5stHIUD"
      }
    },
    {
      "cell_type": "code",
      "source": [
        "import numpy as np\n",
        "A=np.zeros((3,4), dtype=int)\n",
        "print(A)"
      ],
      "metadata": {
        "colab": {
          "base_uri": "https://localhost:8080/"
        },
        "id": "kGe12wFCHMhX",
        "outputId": "85f04e4c-0e55-41cf-e7f5-c29414c86dc2"
      },
      "execution_count": 8,
      "outputs": [
        {
          "output_type": "stream",
          "name": "stdout",
          "text": [
            "[[0 0 0 0]\n",
            " [0 0 0 0]\n",
            " [0 0 0 0]]\n"
          ]
        }
      ]
    },
    {
      "cell_type": "markdown",
      "source": [
        "### Exercice 3\n",
        "Expected result:  \n",
        "[[255. 255. 255. 255. 255. 255. 255. 255. 255. 255.]  \n",
        " [255. 255. 255. 255. 255. 255. 255. 255. 255. 255.]  \n",
        " [255. 255. 255. 255. 255. 255. 255. 255. 255. 255.]  \n",
        " [255. 255. 255. 255. 255. 255. 255. 255. 255. 255.]  \n",
        " [255. 255. 255. 255. 255. 255. 255. 255. 255. 255.]  \n",
        " [255. 255. 255. 255. 255. 255. 255. 255. 255. 255.]  \n",
        " [255. 255. 255. 255. 255. 255. 255. 255. 255. 255.]  \n",
        " [255. 255. 255. 255. 255. 255. 255. 255. 255. 255.]  \n",
        " [255. 255. 255. 255. 255. 255. 255. 255. 255. 255.]  \n",
        " [255. 255. 255. 255. 255. 255. 255. 255. 255. 255.]]  \n"
      ],
      "metadata": {
        "id": "PZZJsoyeK--f"
      }
    },
    {
      "cell_type": "code",
      "source": [
        "import numpy as np\n",
        "A=np.full((10,10),\"255.\", dtype=float)\n",
        "print(A)\n",
        "\n",
        "#verbose\n",
        "#print(np.full(shape=(10, 10), fill_value=255, dtype='float'))"
      ],
      "metadata": {
        "colab": {
          "base_uri": "https://localhost:8080/"
        },
        "id": "q4zXZuGjLE7m",
        "outputId": "62fd3f2c-e2cb-4012-9e2d-788f1dfed639"
      },
      "execution_count": 12,
      "outputs": [
        {
          "output_type": "stream",
          "name": "stdout",
          "text": [
            "[[255. 255. 255. 255. 255. 255. 255. 255. 255. 255.]\n",
            " [255. 255. 255. 255. 255. 255. 255. 255. 255. 255.]\n",
            " [255. 255. 255. 255. 255. 255. 255. 255. 255. 255.]\n",
            " [255. 255. 255. 255. 255. 255. 255. 255. 255. 255.]\n",
            " [255. 255. 255. 255. 255. 255. 255. 255. 255. 255.]\n",
            " [255. 255. 255. 255. 255. 255. 255. 255. 255. 255.]\n",
            " [255. 255. 255. 255. 255. 255. 255. 255. 255. 255.]\n",
            " [255. 255. 255. 255. 255. 255. 255. 255. 255. 255.]\n",
            " [255. 255. 255. 255. 255. 255. 255. 255. 255. 255.]\n",
            " [255. 255. 255. 255. 255. 255. 255. 255. 255. 255.]]\n"
          ]
        }
      ]
    }
  ]
}