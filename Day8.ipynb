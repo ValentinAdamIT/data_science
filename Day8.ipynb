{
  "nbformat": 4,
  "nbformat_minor": 0,
  "metadata": {
    "colab": {
      "provenance": [],
      "authorship_tag": "ABX9TyOaRBu2r9iTJwLJa1laGoMb",
      "include_colab_link": true
    },
    "kernelspec": {
      "name": "python3",
      "display_name": "Python 3"
    },
    "language_info": {
      "name": "python"
    }
  },
  "cells": [
    {
      "cell_type": "markdown",
      "metadata": {
        "id": "view-in-github",
        "colab_type": "text"
      },
      "source": [
        "<a href=\"https://colab.research.google.com/github/ValentinAdamIT/data_science/blob/main/Day8.ipynb\" target=\"_parent\"><img src=\"https://colab.research.google.com/assets/colab-badge.svg\" alt=\"Open In Colab\"/></a>"
      ]
    },
    {
      "cell_type": "markdown",
      "source": [
        "###Exercise 1\n",
        "Using Numpy create and convert the following array into the list:  \n",
        "array([[ 0,  1,  2,  3],  \n",
        "       [ 4,  5,  6,  7],  \n",
        "       [ 8,  9, 10, 11]])  \n",
        "\n",
        "In response, print list to the console.  \n",
        "\n",
        "Tip: Use the np.array.tolist() method.  \n",
        "\n",
        "Expected output:\n",
        "\n",
        "\n",
        "\n",
        "[[0, 1, 2, 3], [4, 5, 6, 7], [8, 9, 10, 11]]\n"
      ],
      "metadata": {
        "id": "UMufUsEK8vM2"
      }
    },
    {
      "cell_type": "code",
      "source": [
        "import numpy as np\n",
        "x=np.arange(12).reshape(3,4)\n",
        "print(x.tolist())"
      ],
      "metadata": {
        "colab": {
          "base_uri": "https://localhost:8080/"
        },
        "id": "7jKOTzBy862O",
        "outputId": "bc69f35c-c4c1-4f8d-8107-5e1c48bbcfbc"
      },
      "execution_count": 11,
      "outputs": [
        {
          "output_type": "stream",
          "name": "stdout",
          "text": [
            "[[0, 1, 2, 3], [4, 5, 6, 7], [8, 9, 10, 11]]\n"
          ]
        }
      ]
    },
    {
      "cell_type": "markdown",
      "source": [
        "### Exercise 2\n",
        "The following array is given:  \n",
        "array  \n",
        "([[ 0,  1,  2,  3],  \n",
        "[ 4,  5,  6,  7],  \n",
        "[ 8,  9, 10, 11]])  \n",
        "\n",
        "Using the slice operator, transform this array into the following:  \n",
        "array  \n",
        "([[ 8,  9, 10, 11],  \n",
        "[ 4,  5,  6,  7],  \n",
        "[ 0,  1,  2,  3]])  \n",
        "In response, print transformed array to the console.  \n",
        "\n",
        "Expected output:  \n",
        "\n",
        "[[ 8  9 10 11]  \n",
        " [ 4  5  6  7]  \n",
        " [ 0  1  2  3]]  \n"
      ],
      "metadata": {
        "id": "kGVJK3CJ9AV-"
      }
    },
    {
      "cell_type": "code",
      "source": [
        "import numpy as np\n",
        "x=np.arange(12).reshape(-1,4)\n",
        "print(x[::-1])"
      ],
      "metadata": {
        "colab": {
          "base_uri": "https://localhost:8080/"
        },
        "id": "gAD42l2c9UxG",
        "outputId": "4981aa0d-f4bf-49ed-bc4d-bf491769a35d"
      },
      "execution_count": 10,
      "outputs": [
        {
          "output_type": "stream",
          "name": "stdout",
          "text": [
            "[[ 8  9 10 11]\n",
            " [ 4  5  6  7]\n",
            " [ 0  1  2  3]]\n"
          ]
        }
      ]
    },
    {
      "cell_type": "markdown",
      "source": [
        "### Exercise 3\n",
        "The following array:  \n",
        "array  \n",
        "([[1., 1., 1., 1.],  \n",
        "       [1., 1., 1., 1.],  \n",
        "       [1., 1., 1., 1.],  \n",
        "       [1., 1., 1., 1.]])  \n",
        "\n",
        "\n",
        "transform to this array:  \n",
        "\n",
        "array  \n",
        "([[0., 0., 0., 0., 0., 0.],  \n",
        "       [0., 1., 1., 1., 1., 0.],  \n",
        "       [0., 1., 1., 1., 1., 0.],  \n",
        "       [0., 1., 1., 1., 1., 0.],  \n",
        "       [0., 1., 1., 1., 1., 0.],  \n",
        "       [0., 0., 0., 0., 0., 0.]])  \n",
        "\n",
        "\n",
        "In response, print transformed array to the console.\n",
        "\n",
        "\n",
        "\n",
        "Tip: Use the np.pad() function.\n",
        "\n",
        "\n",
        "\n",
        "Expected output:  \n",
        "\n",
        "\n",
        "\n",
        "[[0. 0. 0. 0. 0. 0.]  \n",
        " [0. 1. 1. 1. 1. 0.]  \n",
        " [0. 1. 1. 1. 1. 0.]  \n",
        " [0. 1. 1. 1. 1. 0.]  \n",
        " [0. 1. 1. 1. 1. 0.]  \n",
        " [0. 0. 0. 0. 0. 0.]]  \n"
      ],
      "metadata": {
        "id": "_wbym555ANj1"
      }
    },
    {
      "cell_type": "code",
      "source": [
        "from ast import Constant\n",
        "import numpy as np\n",
        "x = np.ones(16).reshape(4,4)\n",
        "x = np.pad(x, (1,1), 'constant')\n",
        "print(x)"
      ],
      "metadata": {
        "colab": {
          "base_uri": "https://localhost:8080/"
        },
        "id": "GiuROHjXANMV",
        "outputId": "d40711d0-5132-4b62-cd04-77ce8027769f"
      },
      "execution_count": 19,
      "outputs": [
        {
          "output_type": "stream",
          "name": "stdout",
          "text": [
            "[[0. 0. 0. 0. 0. 0.]\n",
            " [0. 1. 1. 1. 1. 0.]\n",
            " [0. 1. 1. 1. 1. 0.]\n",
            " [0. 1. 1. 1. 1. 0.]\n",
            " [0. 1. 1. 1. 1. 0.]\n",
            " [0. 0. 0. 0. 0. 0.]]\n"
          ]
        }
      ]
    }
  ]
}