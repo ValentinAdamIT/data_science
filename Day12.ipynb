{
  "nbformat": 4,
  "nbformat_minor": 0,
  "metadata": {
    "colab": {
      "provenance": [],
      "authorship_tag": "ABX9TyOHuUkuoJhpuUK4RsrNrhS5",
      "include_colab_link": true
    },
    "kernelspec": {
      "name": "python3",
      "display_name": "Python 3"
    },
    "language_info": {
      "name": "python"
    }
  },
  "cells": [
    {
      "cell_type": "markdown",
      "metadata": {
        "id": "view-in-github",
        "colab_type": "text"
      },
      "source": [
        "<a href=\"https://colab.research.google.com/github/ValentinAdamIT/data_science/blob/main/Day12.ipynb\" target=\"_parent\"><img src=\"https://colab.research.google.com/assets/colab-badge.svg\" alt=\"Open In Colab\"/></a>"
      ]
    },
    {
      "cell_type": "markdown",
      "source": [
        "###Exercise 1\n",
        "The following array is given:\n",
        "\n",
        "\n",
        "\n",
        "A = np.array([[4.99, 3.49, 9.99],  \n",
        "              [1.99, 9.99, 14.99],  \n",
        "              [14.99, 2.39, 7.29]])  \n",
        "\n",
        "\n",
        "Using Numpy create an array of the same shape and data type as the given array and fill it with a constant value = 9.99. Print this array to the console.\n",
        "\n",
        "\n",
        "\n",
        "Tip: Use the np.full_like() function.\n",
        "\n",
        "\n",
        "\n",
        "Expected result:\n",
        "\n",
        "\n",
        "\n",
        "[[9.99 9.99 9.99]  \n",
        " [9.99 9.99 9.99]  \n",
        " [9.99 9.99 9.99]]  \n"
      ],
      "metadata": {
        "id": "au943aKucHNg"
      }
    },
    {
      "cell_type": "code",
      "execution_count": 1,
      "metadata": {
        "colab": {
          "base_uri": "https://localhost:8080/"
        },
        "id": "LBak3SLmcBbQ",
        "outputId": "459e375e-f782-40ae-f248-d3a001b02f31"
      },
      "outputs": [
        {
          "output_type": "stream",
          "name": "stdout",
          "text": [
            "[[9.99 9.99 9.99]\n",
            " [9.99 9.99 9.99]\n",
            " [9.99 9.99 9.99]]\n"
          ]
        }
      ],
      "source": [
        "import numpy as np\n",
        "\n",
        "\n",
        "A = np.array([[4.99, 3.49, 9.99],\n",
        "              [1.99, 9.99, 14.99],\n",
        "              [14.99, 2.39, 7.29]])\n",
        "print(np.full_like(A,9.99))"
      ]
    },
    {
      "cell_type": "markdown",
      "source": [
        "###Exercise 2\n",
        "Using Numpy create a two-dimensional array (lower triangular matrix):\n",
        "\n",
        "\n",
        "\n",
        "array([[1., 0., 0., 0., 0.],  \n",
        "       [1., 1., 0., 0., 0.],  \n",
        "       [1., 1., 1., 0., 0.],  \n",
        "       [1., 1., 1., 1., 0.],  \n",
        "       [1., 1., 1., 1., 1.]])  \n",
        "\n",
        "\n",
        "In response, print result to the console.\n",
        "\n",
        "\n",
        "\n",
        "Tip: Use the np.tri() function.\n",
        "\n",
        "\n",
        "\n",
        "Expected result:\n",
        "\n",
        "\n",
        "\n",
        "[[1. 0. 0. 0. 0.]  \n",
        " [1. 1. 0. 0. 0.]  \n",
        " [1. 1. 1. 0. 0.]  \n",
        " [1. 1. 1. 1. 0.]  \n",
        " [1. 1. 1. 1. 1.]]  "
      ],
      "metadata": {
        "id": "pwxgQ2EKcua3"
      }
    },
    {
      "cell_type": "code",
      "source": [
        "import numpy as np\n",
        "print(np.tri(5))\n"
      ],
      "metadata": {
        "colab": {
          "base_uri": "https://localhost:8080/"
        },
        "id": "fhnVN424c1fD",
        "outputId": "ac28fa5b-9f8c-43c5-a3cd-0c2f115b911b"
      },
      "execution_count": 6,
      "outputs": [
        {
          "output_type": "stream",
          "name": "stdout",
          "text": [
            "[[1. 0. 0. 0. 0.]\n",
            " [1. 1. 0. 0. 0.]\n",
            " [1. 1. 1. 0. 0.]\n",
            " [1. 1. 1. 1. 0.]\n",
            " [1. 1. 1. 1. 1.]]\n"
          ]
        }
      ]
    },
    {
      "cell_type": "markdown",
      "source": [
        "### Exercise 3\n",
        "Using Numpy create any 3-dimensional array with shape (2, 3, 4) and assign to variable A.  \n",
        "\n",
        "\n",
        "\n",
        "Example:  \n",
        "\n",
        "\n",
        "\n",
        "[[[4 5 4 2]  \n",
        "  [6 3 5 1]  \n",
        "  [5 2 1 2]]  \n",
        "\n",
        " [[7 2 3 1]  \n",
        "  [6 2 0 9]  \n",
        "  [0 1 9 1]]]  "
      ],
      "metadata": {
        "id": "oxg1LCP-dqaT"
      }
    },
    {
      "cell_type": "code",
      "source": [
        "import numpy as np\n",
        "A = np.array([[[4, 5, 4, 2],\n",
        "               [6, 3, 5, 1],\n",
        "               [5, 2, 1, 2]],\n",
        "\n",
        "              [[7, 2, 3, 1],\n",
        "               [6, 2, 0, 9],\n",
        "               [0, 1, 9, 1]]])\n",
        "print(A)"
      ],
      "metadata": {
        "colab": {
          "base_uri": "https://localhost:8080/"
        },
        "id": "Vqe205kIdtYC",
        "outputId": "ad3ed251-88d6-4318-a0ed-45d2ceaaee26"
      },
      "execution_count": 15,
      "outputs": [
        {
          "output_type": "stream",
          "name": "stdout",
          "text": [
            "[[[4 5 4 2]\n",
            "  [6 3 5 1]\n",
            "  [5 2 1 2]]\n",
            "\n",
            " [[7 2 3 1]\n",
            "  [6 2 0 9]\n",
            "  [0 1 9 1]]]\n"
          ]
        }
      ]
    },
    {
      "cell_type": "markdown",
      "source": [
        "###Exercise 4\n",
        "Using Numpy create a two-dimensional array with shape of (200, 300) filled with random values from 0 to 255 (inclusive) with data type np.uint8 and assign to the variable image."
      ],
      "metadata": {
        "id": "8G1dlPY0fHmU"
      }
    },
    {
      "cell_type": "code",
      "source": [
        "import numpy as np\n",
        "image = np.random.randint(0, 255, size=(200, 300), dtype=np.uint8)\n",
        "print(image)"
      ],
      "metadata": {
        "colab": {
          "base_uri": "https://localhost:8080/"
        },
        "id": "9zEYw4fofJSc",
        "outputId": "4089ebcd-cd14-4236-ce70-4c109594e9a3"
      },
      "execution_count": 20,
      "outputs": [
        {
          "output_type": "stream",
          "name": "stdout",
          "text": [
            "[[159 129  77 ...  98   2  40]\n",
            " [128 219 105 ... 191 138 140]\n",
            " [135 155  68 ... 161 231   3]\n",
            " ...\n",
            " [109  81  87 ... 251 222 153]\n",
            " [206 174  74 ... 105 165  99]\n",
            " [193 178  31 ...  82  89  43]]\n"
          ]
        }
      ]
    }
  ]
}