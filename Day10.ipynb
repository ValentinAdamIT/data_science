{
  "nbformat": 4,
  "nbformat_minor": 0,
  "metadata": {
    "colab": {
      "provenance": [],
      "authorship_tag": "ABX9TyNLV0X/PL0O10XBsBzXL1S1",
      "include_colab_link": true
    },
    "kernelspec": {
      "name": "python3",
      "display_name": "Python 3"
    },
    "language_info": {
      "name": "python"
    }
  },
  "cells": [
    {
      "cell_type": "markdown",
      "metadata": {
        "id": "view-in-github",
        "colab_type": "text"
      },
      "source": [
        "<a href=\"https://colab.research.google.com/github/ValentinAdamIT/data_science/blob/main/Day10.ipynb\" target=\"_parent\"><img src=\"https://colab.research.google.com/assets/colab-badge.svg\" alt=\"Open In Colab\"/></a>"
      ]
    },
    {
      "cell_type": "markdown",
      "source": [
        "\n",
        "### Exercise 1\n",
        "The following array is given:\n",
        "\n",
        "\n",
        "\n",
        "A = np.array([[5, 1, 2, 1, 2],  \n",
        "              [9, 1, 9, 7, 5],  \n",
        "              [4, 1, 5, 7, 9]])  \n",
        "Extract all unique values of this array as a list and print it to the console.  \n",
        "\n",
        "\n",
        "\n",
        "Tip: Use the np.unique() function.  \n",
        "\n",
        "\n",
        "\n",
        "Expected result:  \n",
        "\n",
        "\n",
        "\n",
        "[1 2 4 5 7 9]  "
      ],
      "metadata": {
        "id": "ZHcmKbX9JnAn"
      }
    },
    {
      "cell_type": "code",
      "execution_count": 5,
      "metadata": {
        "colab": {
          "base_uri": "https://localhost:8080/"
        },
        "id": "jYXilRwzJkJi",
        "outputId": "8cb57c88-dbfe-4bae-cb12-f8c473e95ab2"
      },
      "outputs": [
        {
          "output_type": "stream",
          "name": "stdout",
          "text": [
            "[1 2 4 5 7 9]\n"
          ]
        }
      ],
      "source": [
        "import numpy as np\n",
        "A = np.array ([[5, 1, 2, 1, 2],\n",
        "[9, 1, 9, 7, 5],\n",
        "[4, 1, 5, 7, 9]])\n",
        "\n",
        "print(np.unique(A))"
      ]
    },
    {
      "cell_type": "code",
      "source": [
        "import numpy as np\n",
        "x = np.arange(48).reshape(-1,8)\n",
        "x=np.pad(x, (1,1), 'constant')\n",
        "print(np.unique(x))"
      ],
      "metadata": {
        "colab": {
          "base_uri": "https://localhost:8080/"
        },
        "id": "eTknNxWzKqch",
        "outputId": "2f33941f-3159-46c1-e09e-86a702955efd"
      },
      "execution_count": 9,
      "outputs": [
        {
          "output_type": "stream",
          "name": "stdout",
          "text": [
            "[ 0  1  2  3  4  5  6  7  8  9 10 11 12 13 14 15 16 17 18 19 20 21 22 23\n",
            " 24 25 26 27 28 29 30 31 32 33 34 35 36 37 38 39 40 41 42 43 44 45 46 47]\n"
          ]
        }
      ]
    },
    {
      "cell_type": "markdown",
      "source": [
        "### Exercise 2\n",
        "The following array is given:  \n",
        "A = np.array  \n",
        "([[0.4, 0.3, 0.3],  \n",
        "              [0.1, 0.1, 0.8],  \n",
        "              [0.2, 0.5, 0.3]])  \n",
        "\n",
        "\n",
        "Return a list of indexes with maximum values for each row from this array and print it to the console.\n",
        "\n",
        "\n",
        "\n",
        "Tip: Use the np.argmax() function.  \n",
        "\n",
        "\n",
        "\n",
        "Expected result:  \n",
        "\n",
        "\n",
        "\n",
        "[0 2 1]  \n"
      ],
      "metadata": {
        "id": "lMsADcuTLF1h"
      }
    },
    {
      "cell_type": "code",
      "source": [
        "import numpy as np\n",
        "A=np.array ([[0.4, 0.3, 0.3],\n",
        "            [0.1, 0.1, 0.8],\n",
        "            [0.2, 0.5, 0.3]])\n",
        "\n",
        "print(np.argmax(A, axis=0))"
      ],
      "metadata": {
        "colab": {
          "base_uri": "https://localhost:8080/"
        },
        "id": "t0DP1UxpLFDJ",
        "outputId": "6fe36e4f-1f25-4917-cfa0-0f7c1a3cbb9e"
      },
      "execution_count": 26,
      "outputs": [
        {
          "output_type": "stream",
          "name": "stdout",
          "text": [
            "[0 2 1]\n"
          ]
        }
      ]
    },
    {
      "cell_type": "markdown",
      "source": [
        "### Exercise 3\n",
        "The following array is given:  \n",
        "A = np.array([[4.99, 3.49, 9.99],  \n",
        "              [1.99, 9.99, 4.99],  \n",
        "              [14.99, 2.39, 7.29]])  \n",
        "\n",
        "\n",
        "Sort this array:\n",
        "\n",
        "by row (ascending)\n",
        "\n",
        "by column (ascending)\n",
        "\n",
        "And print result to the console as shown below.\n",
        "\n",
        "\n",
        "\n",
        "Tip: Use the np.sort() function.\n",
        "\n",
        "\n",
        "\n",
        "Expected result:\n",
        "\n",
        "\n",
        "\n",
        "[[ 3.49  4.99  9.99]  \n",
        " [ 1.99  4.99  9.99]  \n",
        " [ 2.39  7.29 14.99]]  \n",
        "[[ 1.99  2.39  4.99]  \n",
        " [ 4.99  3.49  7.29]  \n",
        " [14.99  9.99  9.99]]  \n"
      ],
      "metadata": {
        "id": "oIA8bJHDO40w"
      }
    },
    {
      "cell_type": "code",
      "source": [
        "import numpy as np\n",
        "A=np.array([[4.99, 3.49, 9.99],\n",
        "[1.99, 9.99, 4.99],\n",
        "[14.99, 2.39, 7.29]])\n",
        "print(np.sort(A))\n",
        "print(np.sort(A,0))"
      ],
      "metadata": {
        "colab": {
          "base_uri": "https://localhost:8080/"
        },
        "id": "JjpOIqJnPBXI",
        "outputId": "71441d9c-44ce-4f1b-9ad8-3a2cc86c7af8"
      },
      "execution_count": 29,
      "outputs": [
        {
          "output_type": "stream",
          "name": "stdout",
          "text": [
            "[[ 3.49  4.99  9.99]\n",
            " [ 1.99  4.99  9.99]\n",
            " [ 2.39  7.29 14.99]]\n",
            "[[ 1.99  2.39  4.99]\n",
            " [ 4.99  3.49  7.29]\n",
            " [14.99  9.99  9.99]]\n"
          ]
        }
      ]
    },
    {
      "cell_type": "markdown",
      "source": [
        "### Exercise 4\n",
        "Extract all elements from the following array with a value greater than 8 and print result to the console.\n",
        "\n",
        "\n",
        "\n",
        "A = np.array([[4.99, 3.49, 9.99],  \n",
        "              [1.99, 9.99, 4.99],  \n",
        "              [14.99, 2.39, 7.29]])  \n",
        "\n",
        "\n",
        "Expected result:  \n",
        "\n",
        "\n",
        "\n",
        "[ 9.99  9.99 14.99]  "
      ],
      "metadata": {
        "id": "05ooNB_3RDaX"
      }
    },
    {
      "cell_type": "code",
      "source": [
        "import numpy as np\n",
        "A = np.array([[4.99,3.49,9.99],\n",
        "              [1.99,9.99,4.99],\n",
        "              [14.99,2.39,7.29]])\n",
        "print(A[A > 8])\n",
        "print(A[A<2])"
      ],
      "metadata": {
        "colab": {
          "base_uri": "https://localhost:8080/"
        },
        "id": "GEDws1UzRDvv",
        "outputId": "dc307f6f-474d-4c62-a1bc-8c0897145bd5"
      },
      "execution_count": 34,
      "outputs": [
        {
          "output_type": "stream",
          "name": "stdout",
          "text": [
            "[ 9.99  9.99 14.99]\n",
            "[1.99]\n"
          ]
        }
      ]
    }
  ]
}