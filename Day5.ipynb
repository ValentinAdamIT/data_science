{
  "nbformat": 4,
  "nbformat_minor": 0,
  "metadata": {
    "colab": {
      "provenance": [],
      "authorship_tag": "ABX9TyPb/T+LGYl5/bLhGnoQXVY/",
      "include_colab_link": true
    },
    "kernelspec": {
      "name": "python3",
      "display_name": "Python 3"
    },
    "language_info": {
      "name": "python"
    }
  },
  "cells": [
    {
      "cell_type": "markdown",
      "metadata": {
        "id": "view-in-github",
        "colab_type": "text"
      },
      "source": [
        "<a href=\"https://colab.research.google.com/github/ValentinAdamIT/data_science/blob/main/Day5.ipynb\" target=\"_parent\"><img src=\"https://colab.research.google.com/assets/colab-badge.svg\" alt=\"Open In Colab\"/></a>"
      ]
    },
    {
      "cell_type": "markdown",
      "source": [
        "### Exercice 1\n",
        "Set the random seed to 10. Then using Numpy create a one-dimensional array consisting of 30 pseudo-randomly generated values from the uniform distribution [0,1). Print result to the console as shown below.\n",
        "\n",
        "Expected result:  \n",
        "[0.77132064 0.02075195 0.63364823 0.74880388 0.49850701 0.22479665  \n",
        " 0.19806286 0.76053071 0.16911084 0.08833981 0.68535982 0.95339335  \n",
        " 0.00394827 0.51219226 0.81262096 0.61252607 0.72175532 0.29187607  \n",
        " 0.91777412 0.71457578 0.54254437 0.14217005 0.37334076 0.67413362  \n",
        " 0.44183317 0.43401399 0.61776698 0.51313824 0.65039718 0.60103895]"
      ],
      "metadata": {
        "id": "uob22zL_Yv9F"
      }
    },
    {
      "cell_type": "code",
      "source": [
        "import numpy as np\n",
        "#np.random.seed permet de garder les même chiffre lors d'une prochaine execution de code\n",
        "np.random.seed(10)\n",
        "A=np.random.rand(30)\n",
        "print(A)"
      ],
      "metadata": {
        "colab": {
          "base_uri": "https://localhost:8080/"
        },
        "id": "dykydnkmY2LF",
        "outputId": "a7f19d41-a9be-47c6-87c7-c3263aedb4ad"
      },
      "execution_count": null,
      "outputs": [
        {
          "output_type": "stream",
          "name": "stdout",
          "text": [
            "[0.77132064 0.02075195 0.63364823 0.74880388 0.49850701 0.22479665\n",
            " 0.19806286 0.76053071 0.16911084 0.08833981 0.68535982 0.95339335\n",
            " 0.00394827 0.51219226 0.81262096 0.61252607 0.72175532 0.29187607\n",
            " 0.91777412 0.71457578 0.54254437 0.14217005 0.37334076 0.67413362\n",
            " 0.44183317 0.43401399 0.61776698 0.51313824 0.65039718 0.60103895]\n"
          ]
        }
      ]
    },
    {
      "cell_type": "markdown",
      "source": [
        "### Exercice 2\n",
        "Using Numpy create a two-dimensional array with the shape (10, 4) pseudo-randomly generated values from the standard normal distribution N(0,1). Set the random seed to 20. Print result to the console as shown below.\n",
        "Expected result:  \n",
        "[[ 0.88389311  0.19586502  0.35753652 -2.34326191]  \n",
        " [-1.08483259  0.55969629  0.93946935 -0.97848104]  \n",
        " [ 0.50309684  0.40641447  0.32346101 -0.49341088]  \n",
        " [-0.79201679 -0.84236793 -1.27950266  0.24571517]  \n",
        " [-0.0441948   1.56763255  1.05110868  0.40636843]  \n",
        " [-0.1686461  -3.18970279  1.12013226  1.33277821]  \n",
        " [-0.24333877 -0.13003071 -0.10901737  1.55618644]  \n",
        " [ 0.12877835 -2.06694872 -0.88549315 -1.10457948]  \n",
        " [ 0.93286635  2.059838   -0.93493796 -1.61299022]  \n",
        " [ 0.52706972 -1.55110074  0.32961334 -1.13652654]]\n"
      ],
      "metadata": {
        "id": "YcH3iPKNcta7"
      }
    },
    {
      "cell_type": "code",
      "source": [
        "import numpy as np\n",
        "np.random.seed(20)\n",
        "A=np.random.randn(10,4)\n",
        "print(A)"
      ],
      "metadata": {
        "colab": {
          "base_uri": "https://localhost:8080/"
        },
        "id": "sHnxHFfTc3Cn",
        "outputId": "e20daba8-3233-407a-db67-2475f4ceff57"
      },
      "execution_count": null,
      "outputs": [
        {
          "output_type": "stream",
          "name": "stdout",
          "text": [
            "[[ 0.88389311  0.19586502  0.35753652 -2.34326191]\n",
            " [-1.08483259  0.55969629  0.93946935 -0.97848104]\n",
            " [ 0.50309684  0.40641447  0.32346101 -0.49341088]\n",
            " [-0.79201679 -0.84236793 -1.27950266  0.24571517]\n",
            " [-0.0441948   1.56763255  1.05110868  0.40636843]\n",
            " [-0.1686461  -3.18970279  1.12013226  1.33277821]\n",
            " [-0.24333877 -0.13003071 -0.10901737  1.55618644]\n",
            " [ 0.12877835 -2.06694872 -0.88549315 -1.10457948]\n",
            " [ 0.93286635  2.059838   -0.93493796 -1.61299022]\n",
            " [ 0.52706972 -1.55110074  0.32961334 -1.13652654]]\n"
          ]
        }
      ]
    },
    {
      "cell_type": "markdown",
      "source": [
        "### Exercise 3\n",
        "Using Numpy create a two-dimensional array with the shape (10, 4) pseudo-randomly generated values from the normal distribution N(100, 5). Set the random seed to 30. Print result to the console as shown below.\n",
        "\n",
        "Expected result:  \n",
        "[[ 97.17349231 103.41650023  97.82942436 101.05220329]  \n",
        " [ 99.7748353  100.67930221  96.14063068 103.544381  ]  \n",
        " [100.30029631  97.52499594 103.52901961 100.24037271]  \n",
        " [ 98.29153712  98.2666258  103.09437633 101.70027274]  \n",
        " [ 99.36127721 101.20382627  95.34026547 102.09694365]  \n",
        " [ 99.98708001  98.95468525  99.05410904 102.38025432]  \n",
        " [ 93.50787269 103.61547679 103.18753701  98.51356237]  \n",
        " [102.20256689  96.19764407  97.54000366  97.05813038]  \n",
        " [101.81233513  97.66380453  98.45883627  98.09317768]  \n",
        " [102.48979932  95.70413391  98.43161651 101.89861815]]\n"
      ],
      "metadata": {
        "id": "G-b26EIMdVNd"
      }
    },
    {
      "cell_type": "code",
      "source": [
        "import numpy as np\n",
        "\n",
        "# Set the random seed for reproducibility\n",
        "np.random.seed(30)\n",
        "\n",
        "# Define mean and standard deviation\n",
        "mu = 100\n",
        "sigma = 5\n",
        "\n",
        "# Generate a 10x4 array of pseudo-random values from N(100, 5)\n",
        "random_array = sigma * np.random.randn(10, 4) + mu\n",
        "\n",
        "# Print the result to the console\n",
        "print(random_array)\n"
      ],
      "metadata": {
        "colab": {
          "base_uri": "https://localhost:8080/"
        },
        "id": "1YNjG_Tudc1o",
        "outputId": "0a338969-6fde-4f27-e76f-215e92c30c53"
      },
      "execution_count": 14,
      "outputs": [
        {
          "output_type": "stream",
          "name": "stdout",
          "text": [
            "[[ 93.67973668 107.63952676  95.14644531 102.35279808]\n",
            " [ 99.49651642 101.51896592  91.37018786 107.92547685]\n",
            " [100.67148297  94.46572267 107.89112775 100.53748971]\n",
            " [ 96.17976087  96.12405745 106.91923583 103.80192542]\n",
            " [ 98.57177243 102.69183738  89.58051684 104.68890855]\n",
            " [ 99.97111002  97.66260516  97.8849235  105.32241047]\n",
            " [ 85.48316202 108.08445187 107.12754943  96.67622441]\n",
            " [104.9250893   91.49767367  94.49928096  93.42177955]\n",
            " [104.05250455  94.77610813  96.55385313  95.73621568]\n",
            " [105.56736054  90.39415141  96.49298791 104.24543925]]\n"
          ]
        }
      ]
    }
  ]
}