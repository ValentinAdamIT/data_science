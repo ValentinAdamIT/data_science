{
  "nbformat": 4,
  "nbformat_minor": 0,
  "metadata": {
    "colab": {
      "provenance": [],
      "authorship_tag": "ABX9TyPhcs34/TdFDAj1rDhOwiRU",
      "include_colab_link": true
    },
    "kernelspec": {
      "name": "python3",
      "display_name": "Python 3"
    },
    "language_info": {
      "name": "python"
    }
  },
  "cells": [
    {
      "cell_type": "markdown",
      "metadata": {
        "id": "view-in-github",
        "colab_type": "text"
      },
      "source": [
        "<a href=\"https://colab.research.google.com/github/ValentinAdamIT/data_science/blob/main/Day4.ipynb\" target=\"_parent\"><img src=\"https://colab.research.google.com/assets/colab-badge.svg\" alt=\"Open In Colab\"/></a>"
      ]
    },
    {
      "cell_type": "markdown",
      "source": [
        "### Exercice 1\n",
        "Using Numpy create a one-dimensional array of all two-digit numbers and print this array to the console as shown below.  \n",
        "Expected result:  \n",
        "[10 11 12 13 14 15 16 17 18 19 20 21 22 23 24 25 26 27 28 29 30 31 32 33  \n",
        " 34 35 36 37 38 39 40 41 42 43 44 45 46 47 48 49 50 51 52 53 54 55 56 57  \n",
        " 58 59 60 61 62 63 64 65 66 67 68 69 70 71 72 73 74 75 76 77 78 79 80 81  \n",
        " 82 83 84 85 86 87 88 89 90 91 92 93 94 95 96 97 98 99]  \n"
      ],
      "metadata": {
        "id": "la0rKyt2MR1X"
      }
    },
    {
      "cell_type": "code",
      "source": [
        "import numpy as np\n",
        "A=np.arange(10,100,dtype=int)\n",
        "print(A)"
      ],
      "metadata": {
        "colab": {
          "base_uri": "https://localhost:8080/"
        },
        "id": "k8JgqbHCMkQO",
        "outputId": "3826178a-a624-494d-a53c-306d63b2f07d"
      },
      "execution_count": 12,
      "outputs": [
        {
          "output_type": "stream",
          "name": "stdout",
          "text": [
            "[10 11 12 13 14 15 16 17 18 19 20 21 22 23 24 25 26 27 28 29 30 31 32 33\n",
            " 34 35 36 37 38 39 40 41 42 43 44 45 46 47 48 49 50 51 52 53 54 55 56 57\n",
            " 58 59 60 61 62 63 64 65 66 67 68 69 70 71 72 73 74 75 76 77 78 79 80 81\n",
            " 82 83 84 85 86 87 88 89 90 91 92 93 94 95 96 97 98 99]\n"
          ]
        }
      ]
    },
    {
      "cell_type": "markdown",
      "source": [
        "### Exercice 2\n",
        "Using Numpy create the following array:  \n",
        "[[10 11 12 13 14 15 16 17 18 19]  \n",
        " [20 21 22 23 24 25 26 27 28 29]  \n",
        " [30 31 32 33 34 35 36 37 38 39]  \n",
        " [40 41 42 43 44 45 46 47 48 49]  \n",
        " [50 51 52 53 54 55 56 57 58 59]  \n",
        " [60 61 62 63 64 65 66 67 68 69]  \n",
        " [70 71 72 73 74 75 76 77 78 79]  \n",
        " [80 81 82 83 84 85 86 87 88 89]  \n",
        " [90 91 92 93 94 95 96 97 98 99]]  "
      ],
      "metadata": {
        "id": "8LbFC4bISLVk"
      }
    },
    {
      "cell_type": "code",
      "source": [
        "import numpy as np\n",
        "A=np.arange(10,100,dtype=int)\n",
        "A=A.reshape(9,10)\n",
        "print(A)\n",
        "\n",
        "#More proficient: print(np.arange(10, 100).reshape(9, 10))"
      ],
      "metadata": {
        "colab": {
          "base_uri": "https://localhost:8080/"
        },
        "id": "lAlkfKpgSYtW",
        "outputId": "c791b995-0fff-4245-dff0-8335992239cc"
      },
      "execution_count": 21,
      "outputs": [
        {
          "output_type": "stream",
          "name": "stdout",
          "text": [
            "[[10 11 12 13 14 15 16 17 18 19]\n",
            " [20 21 22 23 24 25 26 27 28 29]\n",
            " [30 31 32 33 34 35 36 37 38 39]\n",
            " [40 41 42 43 44 45 46 47 48 49]\n",
            " [50 51 52 53 54 55 56 57 58 59]\n",
            " [60 61 62 63 64 65 66 67 68 69]\n",
            " [70 71 72 73 74 75 76 77 78 79]\n",
            " [80 81 82 83 84 85 86 87 88 89]\n",
            " [90 91 92 93 94 95 96 97 98 99]]\n"
          ]
        }
      ]
    },
    {
      "cell_type": "markdown",
      "source": [
        "### Exercice 3\n",
        "Using Numpy create a 6x6 two-dimensional array - identity matrix with int data type. Print this array to the console as shown below.\n",
        "Expected result:  \n",
        "[[1 0 0 0 0 0]  \n",
        " [0 1 0 0 0 0]  \n",
        " [0 0 1 0 0 0]  \n",
        " [0 0 0 1 0 0]  \n",
        " [0 0 0 0 1 0]  \n",
        " [0 0 0 0 0 1]]  \n"
      ],
      "metadata": {
        "id": "kbunOiu3TOsR"
      }
    },
    {
      "cell_type": "code",
      "source": [
        "import numpy as np\n",
        "A=np.eye(6, dtype=int)\n",
        "print(A)"
      ],
      "metadata": {
        "colab": {
          "base_uri": "https://localhost:8080/"
        },
        "id": "DRl-n1e9UZL9",
        "outputId": "1c78a0a3-fa4a-488a-b749-b810d93ebafa"
      },
      "execution_count": 24,
      "outputs": [
        {
          "output_type": "stream",
          "name": "stdout",
          "text": [
            "[[1 0 0 0 0 0]\n",
            " [0 1 0 0 0 0]\n",
            " [0 0 1 0 0 0]\n",
            " [0 0 0 1 0 0]\n",
            " [0 0 0 0 1 0]\n",
            " [0 0 0 0 0 1]]\n"
          ]
        }
      ]
    }
  ]
}