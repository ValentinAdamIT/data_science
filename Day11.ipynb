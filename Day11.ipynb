{
  "nbformat": 4,
  "nbformat_minor": 0,
  "metadata": {
    "colab": {
      "provenance": [],
      "authorship_tag": "ABX9TyOIx8d/QaWgXHLDU+GiaNdc",
      "include_colab_link": true
    },
    "kernelspec": {
      "name": "python3",
      "display_name": "Python 3"
    },
    "language_info": {
      "name": "python"
    }
  },
  "cells": [
    {
      "cell_type": "markdown",
      "metadata": {
        "id": "view-in-github",
        "colab_type": "text"
      },
      "source": [
        "<a href=\"https://colab.research.google.com/github/ValentinAdamIT/data_science/blob/main/Day11.ipynb\" target=\"_parent\"><img src=\"https://colab.research.google.com/assets/colab-badge.svg\" alt=\"Open In Colab\"/></a>"
      ]
    },
    {
      "cell_type": "markdown",
      "source": [
        "### Exercise 1\n",
        "The following array is given:  \n",
        "A = np.array([[4.99, 3.49, 9.99],  \n",
        "              [1.99, 9.99, 14.99],  \n",
        "              [14.99, 2.39, 7.29]])  \n",
        "\n",
        "\n",
        "Replace elements greater than 10 with a fixed value = 10.0 and print result to the console.  \n",
        "\n",
        "\n",
        "\n",
        "Tip: Use the np.where() function.  \n",
        "\n",
        "\n",
        "\n",
        "Expected result:  \n",
        "\n",
        "\n",
        "\n",
        "[[ 4.99  3.49  9.99]  \n",
        " [ 1.99  9.99 10.  ]  \n",
        " [10.    2.39  7.29]]  "
      ],
      "metadata": {
        "id": "LF1EaQkW9ZDp"
      }
    },
    {
      "cell_type": "code",
      "source": [
        "import numpy as np\n",
        "A = np.array([[4.99, 3.49, 9.99],\n",
        "              [1.99, 9.99, 14.99],\n",
        "              [14.99, 2.39, 7.29]])\n",
        "print(np.where( A > 10, 10, A ))"
      ],
      "metadata": {
        "colab": {
          "base_uri": "https://localhost:8080/"
        },
        "id": "5D5rsF3w9iUj",
        "outputId": "811b3f3c-edf9-4de1-8ce4-d130aca2980b"
      },
      "execution_count": 11,
      "outputs": [
        {
          "output_type": "stream",
          "name": "stdout",
          "text": [
            "[[ 4.99  3.49  9.99]\n",
            " [ 1.99  9.99 10.  ]\n",
            " [10.    2.39  7.29]]\n"
          ]
        }
      ]
    },
    {
      "cell_type": "markdown",
      "source": [
        "###Exercise 2\n",
        "Present the following two-dimensional array as a flattened one-dimensional array and print result to the console.  \n",
        "A = np.array([[4.99, 3.49, 9.99],  \n",
        "              [1.99, 9.99, 14.99],  \n",
        "              [14.99, 2.39, 7.29]])  \n",
        "\n",
        "\n",
        "Tip: Use the np.ravel() function.  \n",
        "\n",
        "\n",
        "\n",
        "Expected result:  \n",
        "\n",
        "\n",
        "\n",
        "[ 4.99  3.49  9.99  1.99  9.99 14.99 14.99  2.39  7.29]"
      ],
      "metadata": {
        "id": "FbMsiGM8aiNs"
      }
    },
    {
      "cell_type": "code",
      "source": [
        "import numpy as np\n",
        "A = np.array([[4.99, 3.49,9.99],\n",
        "              [1.99,9.99,14.99],\n",
        "              [14.99,2.39,7.29]])\n",
        "\n",
        "print(np.ravel(A))"
      ],
      "metadata": {
        "colab": {
          "base_uri": "https://localhost:8080/"
        },
        "id": "n-jhWTFSah0f",
        "outputId": "dc3a7093-11ea-4616-a419-6a01d87ac09f"
      },
      "execution_count": 13,
      "outputs": [
        {
          "output_type": "stream",
          "name": "stdout",
          "text": [
            "[ 4.99  3.49  9.99  1.99  9.99 14.99 14.99  2.39  7.29]\n"
          ]
        }
      ]
    },
    {
      "cell_type": "markdown",
      "source": [
        "### Exercise 3\n",
        "The following array is given:  \n",
        "\n",
        "\n",
        "\n",
        "A = np.array([[4.99, 3.49, 9.99],  \n",
        "              [1.99, 9.99, 14.99],  \n",
        "              [14.99, 2.39, 7.29]])  \n",
        "\n",
        "\n",
        "Using Numpy create an array of the same shape and data type as the given array and fill it with zeros. Print this array to the console.\n",
        "\n",
        "\n",
        "\n",
        "Tip: Use the np.zeros_like() function.\n",
        "\n",
        "\n",
        "\n",
        "Expected result:\n",
        "\n",
        "\n",
        "\n",
        "[[0. 0. 0.]  \n",
        " [0. 0. 0.]  \n",
        " [0. 0. 0.]]  "
      ],
      "metadata": {
        "id": "SYMOoXEDbXWY"
      }
    },
    {
      "cell_type": "code",
      "source": [
        "import numpy as np\n",
        "\n",
        "A = np.array([[4.99, 3.49, 9.99],\n",
        "              [1.99, 9.99, 14.99],\n",
        "              [14.99, 2.39, 7.29]])\n",
        "print(np.zeros_like(A))\n",
        "\n"
      ],
      "metadata": {
        "colab": {
          "base_uri": "https://localhost:8080/"
        },
        "id": "k4qjf3fdbcJk",
        "outputId": "cea6e173-4458-46ac-8f87-5496146e23e3"
      },
      "execution_count": 14,
      "outputs": [
        {
          "output_type": "stream",
          "name": "stdout",
          "text": [
            "[[0. 0. 0.]\n",
            " [0. 0. 0.]\n",
            " [0. 0. 0.]]\n"
          ]
        }
      ]
    }
  ]
}