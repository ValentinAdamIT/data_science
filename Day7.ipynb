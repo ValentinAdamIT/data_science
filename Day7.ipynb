{
  "nbformat": 4,
  "nbformat_minor": 0,
  "metadata": {
    "colab": {
      "provenance": [],
      "authorship_tag": "ABX9TyMPMkxlU7W2AREEYw1DrIt9",
      "include_colab_link": true
    },
    "kernelspec": {
      "name": "python3",
      "display_name": "Python 3"
    },
    "language_info": {
      "name": "python"
    }
  },
  "cells": [
    {
      "cell_type": "markdown",
      "metadata": {
        "id": "view-in-github",
        "colab_type": "text"
      },
      "source": [
        "<a href=\"https://colab.research.google.com/github/ValentinAdamIT/data_science/blob/main/Day7.ipynb\" target=\"_parent\"><img src=\"https://colab.research.google.com/assets/colab-badge.svg\" alt=\"Open In Colab\"/></a>"
      ]
    },
    {
      "cell_type": "markdown",
      "source": [
        "### Exercise 1\n",
        "Using Numpy create the following two-dimensional array:  \n",
        "[[0 0 0 0 0 0]  \n",
        " [0 1 0 0 0 0]  \n",
        " [0 0 2 0 0 0]  \n",
        " [0 0 0 3 0 0]  \n",
        " [0 0 0 0 4 0]  \n",
        " [0 0 0 0 0 5]]  \n",
        "Print result to the console as shown below.  \n",
        "Tip: Use the np.diag() function.  \n",
        "\n"
      ],
      "metadata": {
        "id": "wX1A-4OUpequ"
      }
    },
    {
      "cell_type": "code",
      "source": [
        "import numpy as np\n",
        "x=np.array([0,1,2,3,4,5])\n",
        "A=np.diag(x,0)\n",
        "print(A)\n",
        "# Solution : print(np.diag(np.arange(6)))"
      ],
      "metadata": {
        "colab": {
          "base_uri": "https://localhost:8080/"
        },
        "id": "R77t0MEQplWB",
        "outputId": "709164b9-2c01-4aaf-c650-d89619b92c4c"
      },
      "execution_count": 4,
      "outputs": [
        {
          "output_type": "stream",
          "name": "stdout",
          "text": [
            "[[0 0 0 0 0 0]\n",
            " [0 1 0 0 0 0]\n",
            " [0 0 2 0 0 0]\n",
            " [0 0 0 3 0 0]\n",
            " [0 0 0 0 4 0]\n",
            " [0 0 0 0 0 5]]\n"
          ]
        }
      ]
    },
    {
      "cell_type": "markdown",
      "source": [
        "###Exercise 2  \n",
        "Using Numpy create the following array :  \n",
        "([[ 0,  1,  2,  3],  \n",
        "       [ 4,  5,  6,  7],  \n",
        "       [ 8,  9, 10, 11]])  \n",
        "Save this array to a binary file named 'array.npy' and then load that file back into another variable. Print this variable to the console.  \n",
        "Tip: Use the np.save() and np.load() functions.  "
      ],
      "metadata": {
        "id": "pEjVDzjeqx0P"
      }
    },
    {
      "cell_type": "code",
      "source": [
        "import numpy as np\n",
        "x=np.arange(12).reshape(-1, 4)\n",
        "np.save(\"array.npy\",x)\n",
        "np.load(\"array.npy\")\n",
        "\n"
      ],
      "metadata": {
        "colab": {
          "base_uri": "https://localhost:8080/"
        },
        "id": "rceYY7HOq6ks",
        "outputId": "833e503f-6f46-415a-c12e-22b954f7889f"
      },
      "execution_count": 10,
      "outputs": [
        {
          "output_type": "execute_result",
          "data": {
            "text/plain": [
              "array([[ 0,  1,  2,  3],\n",
              "       [ 4,  5,  6,  7],\n",
              "       [ 8,  9, 10, 11]])"
            ]
          },
          "metadata": {},
          "execution_count": 10
        }
      ]
    },
    {
      "cell_type": "markdown",
      "source": [
        "###Exercise 3\n",
        "Using Numpy create the following array:  \n",
        "([[ 0,  1,  2,  3],  \n",
        "       [ 4,  5,  6,  7],  \n",
        "       [ 8,  9, 10, 11]])  \n",
        "Save this array to a text file named 'array.txt' with two decimal places and then load this file back into another variable. Print this variable to the console.  \n",
        "Tip: Use the np.savetxt() and np.loadtxt() functions."
      ],
      "metadata": {
        "id": "-93KiNKKs2JY"
      }
    },
    {
      "cell_type": "code",
      "source": [
        "import numpy as np\n",
        "x=np.arange(12)\n",
        "x=x.reshape(3,4)\n",
        "np.savetxt(\"array.txt\",x)\n",
        "A=np.loadtxt(\"array.txt\")\n",
        "print(A)"
      ],
      "metadata": {
        "colab": {
          "base_uri": "https://localhost:8080/"
        },
        "id": "7v1zn0d4s9lz",
        "outputId": "8ffdae43-7b9d-4ac9-c5df-cd8a445f2ac8"
      },
      "execution_count": 26,
      "outputs": [
        {
          "output_type": "stream",
          "name": "stdout",
          "text": [
            "[[ 0.  1.  2.  3.]\n",
            " [ 4.  5.  6.  7.]\n",
            " [ 8.  9. 10. 11.]]\n"
          ]
        }
      ]
    }
  ]
}