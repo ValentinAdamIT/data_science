{
  "nbformat": 4,
  "nbformat_minor": 0,
  "metadata": {
    "colab": {
      "provenance": [],
      "authorship_tag": "ABX9TyPP475NzM+se9k0My84oLIe",
      "include_colab_link": true
    },
    "kernelspec": {
      "name": "python3",
      "display_name": "Python 3"
    },
    "language_info": {
      "name": "python"
    }
  },
  "cells": [
    {
      "cell_type": "markdown",
      "metadata": {
        "id": "view-in-github",
        "colab_type": "text"
      },
      "source": [
        "<a href=\"https://colab.research.google.com/github/ValentinAdamIT/data_science/blob/main/template.ipynb\" target=\"_parent\"><img src=\"https://colab.research.google.com/assets/colab-badge.svg\" alt=\"Open In Colab\"/></a>"
      ]
    },
    {
      "cell_type": "markdown",
      "source": [
        "### Income\n"
      ],
      "metadata": {
        "id": "qNkDoNA2qEDy"
      }
    },
    {
      "cell_type": "code",
      "source": [
        "revenue = 10000\n",
        "taxe_provincial = 0.05\n",
        "taxe_federal = 0.1\n",
        "income =revenue - ((revenue*taxe_provincial)+(revenue*taxe_federal))\n",
        "print(income)"
      ],
      "metadata": {
        "colab": {
          "base_uri": "https://localhost:8080/"
        },
        "id": "EuzOq0zxovA_",
        "outputId": "fdf7df94-e27a-4d03-d7ea-7e7e56f0adb9"
      },
      "execution_count": 7,
      "outputs": [
        {
          "output_type": "stream",
          "name": "stdout",
          "text": [
            "8500.0\n"
          ]
        }
      ]
    },
    {
      "cell_type": "code",
      "source": [
        "print(income)"
      ],
      "metadata": {
        "colab": {
          "base_uri": "https://localhost:8080/"
        },
        "id": "3kOjTFA3p8Z9",
        "outputId": "6ca10636-0210-4195-cc74-b10eba3d10a9"
      },
      "execution_count": 8,
      "outputs": [
        {
          "output_type": "stream",
          "name": "stdout",
          "text": [
            "8500.0\n"
          ]
        }
      ]
    },
    {
      "cell_type": "markdown",
      "source": [
        "\n",
        "\n",
        "### Summary\n"
      ],
      "metadata": {
        "id": "QlcXxp1UqQ3B"
      }
    },
    {
      "cell_type": "code",
      "source": [
        "import numpy as np\n",
        "\n",
        "np.__version__"
      ],
      "metadata": {
        "colab": {
          "base_uri": "https://localhost:8080/",
          "height": 35
        },
        "id": "zBgFdfp-qVjY",
        "outputId": "0550cd61-a95b-47a9-fd3b-c6bb2f636115"
      },
      "execution_count": 9,
      "outputs": [
        {
          "output_type": "execute_result",
          "data": {
            "text/plain": [
              "'1.23.5'"
            ],
            "application/vnd.google.colaboratory.intrinsic+json": {
              "type": "string"
            }
          },
          "metadata": {},
          "execution_count": 9
        }
      ]
    },
    {
      "cell_type": "code",
      "source": [
        "np.random.rand?"
      ],
      "metadata": {
        "id": "h-h7UIGWqilw"
      },
      "execution_count": 10,
      "outputs": []
    },
    {
      "cell_type": "code",
      "source": [
        "import imageai"
      ],
      "metadata": {
        "colab": {
          "base_uri": "https://localhost:8080/",
          "height": 315
        },
        "id": "BHJtlSVhqs8b",
        "outputId": "15a437ac-f55c-4095-e23a-ecea491d0f0e"
      },
      "execution_count": 11,
      "outputs": [
        {
          "output_type": "error",
          "ename": "ModuleNotFoundError",
          "evalue": "ignored",
          "traceback": [
            "\u001b[0;31m---------------------------------------------------------------------------\u001b[0m",
            "\u001b[0;31mModuleNotFoundError\u001b[0m                       Traceback (most recent call last)",
            "\u001b[0;32m<ipython-input-11-2cf5b4bddf56>\u001b[0m in \u001b[0;36m<cell line: 1>\u001b[0;34m()\u001b[0m\n\u001b[0;32m----> 1\u001b[0;31m \u001b[0;32mimport\u001b[0m \u001b[0mimageai\u001b[0m\u001b[0;34m\u001b[0m\u001b[0;34m\u001b[0m\u001b[0m\n\u001b[0m",
            "\u001b[0;31mModuleNotFoundError\u001b[0m: No module named 'imageai'",
            "",
            "\u001b[0;31m---------------------------------------------------------------------------\u001b[0;32m\nNOTE: If your import is failing due to a missing package, you can\nmanually install dependencies using either !pip or !apt.\n\nTo view examples of installing some common dependencies, click the\n\"Open Examples\" button below.\n\u001b[0;31m---------------------------------------------------------------------------\u001b[0m\n"
          ],
          "errorDetails": {
            "actions": [
              {
                "action": "open_url",
                "actionText": "Open Examples",
                "url": "/notebooks/snippets/importing_libraries.ipynb"
              }
            ]
          }
        }
      ]
    },
    {
      "cell_type": "code",
      "source": [
        "!pip install imageai"
      ],
      "metadata": {
        "colab": {
          "base_uri": "https://localhost:8080/"
        },
        "id": "MRDOAnsoqwml",
        "outputId": "611159ce-1923-4c63-e013-605dc698aaa2"
      },
      "execution_count": 12,
      "outputs": [
        {
          "output_type": "stream",
          "name": "stdout",
          "text": [
            "Collecting imageai\n",
            "  Downloading imageai-3.0.3-py3-none-any.whl (69 kB)\n",
            "\u001b[2K     \u001b[90m━━━━━━━━━━━━━━━━━━━━━━━━━━━━━━━━━━━━━━━━\u001b[0m \u001b[32m69.8/69.8 kB\u001b[0m \u001b[31m1.4 MB/s\u001b[0m eta \u001b[36m0:00:00\u001b[0m\n",
            "\u001b[?25hInstalling collected packages: imageai\n",
            "Successfully installed imageai-3.0.3\n"
          ]
        }
      ]
    },
    {
      "cell_type": "code",
      "source": [
        "import imageai"
      ],
      "metadata": {
        "id": "3y5-D2Ldq1yi"
      },
      "execution_count": 13,
      "outputs": []
    },
    {
      "cell_type": "markdown",
      "source": [
        "\n",
        "\n",
        "### Markdown\n"
      ],
      "metadata": {
        "id": "Ddji1eagq6Ab"
      }
    },
    {
      "cell_type": "markdown",
      "source": [
        "\n",
        "\n",
        "exemple of *markdown*  \n",
        "exemple of **markdown**  \n",
        "exemple of 'markdown'\n",
        "```\n",
        "exemple of markdown  \n",
        "```\n",
        "> Python\n",
        ">>Code\n",
        "\n",
        "An orderd list:\n",
        "1. one\n",
        "2. two\n",
        "3. three\n",
        "\n",
        "An unordered list:\n",
        "* one\n",
        "* two\n",
        "* three\n",
        "\n",
        "[Google](www.google.com)\n",
        "![Python](https://www.google.com/url?sa=i&url=https%3A%2F%2Fmedium.com%2Fanalytics-vidhya%2Fthe-advantages-of-learning-python-4401a185c053&psig=AOvVaw2lmVkXyAgWU-U9ami8ZLJn&ust=1702482472296000&source=images&cd=vfe&opi=89978449&ved=0CBEQjRxqFwoTCLi9pMqfioMDFQAAAAAdAAAAABAD)\n"
      ],
      "metadata": {
        "id": "dxasP8xGrCHS"
      }
    },
    {
      "cell_type": "markdown",
      "source": [
        "$y = x^2$"
      ],
      "metadata": {
        "id": "YknQjzJ0txod"
      }
    },
    {
      "cell_type": "markdown",
      "source": [
        "$\\frac{1}{n} \\sum_{i=1}^{n}x_{i}$\n"
      ],
      "metadata": {
        "id": "gHWoarm3vXIp"
      }
    },
    {
      "cell_type": "markdown",
      "source": [
        "$A = \\begin{pmatrix}\n",
        "a_{1, 1} & a_{1, 2} \\\\\n",
        "a_{2, 1} & a_{2, 2}\n",
        "\\end{pmatrix}$"
      ],
      "metadata": {
        "id": "kiuawhiyvY8y"
      }
    },
    {
      "cell_type": "markdown",
      "source": [
        "Col1 | Col2 | Col3\n",
        "--- | --- | ---\n",
        "val1 | val2 | val3\n",
        "va11 | val22 | val33"
      ],
      "metadata": {
        "id": "V4TGjQbNvZvB"
      }
    },
    {
      "cell_type": "markdown",
      "source": [],
      "metadata": {
        "id": "hylbYzkjtfZ4"
      }
    }
  ]
}